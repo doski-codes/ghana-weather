{
 "cells": [
  {
   "cell_type": "code",
   "execution_count": 1,
   "id": "magnetic-constitution",
   "metadata": {},
   "outputs": [],
   "source": [
    "import numpy as np\n",
    "import pandas as pd\n",
    "from matplotlib.pyplot import plot as plt"
   ]
  },
  {
   "cell_type": "code",
   "execution_count": 2,
   "id": "english-flight",
   "metadata": {},
   "outputs": [],
   "source": [
    "amasu_df = pd.read_csv('data/clean/amasu.csv')\n",
    "enchi_df = pd.read_csv('data/clean/enchi.csv')\n",
    "ghmet_hq1 = pd.read_csv('data/clean/ghmet_hq1.csv')\n",
    "ghmet_hq2 = pd.read_csv('data/clean/ghmet_hq2.csv')\n",
    "kumasi = pd.read_csv('data/clean/kumasi.csv')\n",
    "ug_greenhouse = pd.read_csv('data/clean/ug_greenhouse.csv')"
   ]
  },
  {
   "cell_type": "code",
   "execution_count": 3,
   "id": "united-gabriel",
   "metadata": {},
   "outputs": [],
   "source": [
    "data = [amasu_df, enchi_df, ghmet_hq1, ghmet_hq2, kumasi, ug_greenhouse]\n",
    "weather_df = pd.concat(data, ignore_index=True)"
   ]
  },
  {
   "cell_type": "code",
   "execution_count": 4,
   "id": "healthy-barcelona",
   "metadata": {},
   "outputs": [
    {
     "data": {
      "text/html": [
       "<div>\n",
       "<style scoped>\n",
       "    .dataframe tbody tr th:only-of-type {\n",
       "        vertical-align: middle;\n",
       "    }\n",
       "\n",
       "    .dataframe tbody tr th {\n",
       "        vertical-align: top;\n",
       "    }\n",
       "\n",
       "    .dataframe thead th {\n",
       "        text-align: right;\n",
       "    }\n",
       "</style>\n",
       "<table border=\"1\" class=\"dataframe\">\n",
       "  <thead>\n",
       "    <tr style=\"text-align: right;\">\n",
       "      <th></th>\n",
       "      <th>timestamp_(UTC)</th>\n",
       "      <th>atmospheric_pressure_(kPa)</th>\n",
       "      <th>precipitation_(mm)</th>\n",
       "      <th>radiation_(W/m2)</th>\n",
       "      <th>relative_humidity_(-)</th>\n",
       "      <th>temperature_(degrees_Celsius)</th>\n",
       "      <th>wind_direction_(degrees)</th>\n",
       "      <th>wind_gusts_(m/s)</th>\n",
       "      <th>wind_speed_(m/s)</th>\n",
       "      <th>station_code</th>\n",
       "      <th>name</th>\n",
       "      <th>country</th>\n",
       "      <th>installation_height_(m)</th>\n",
       "      <th>latitude</th>\n",
       "      <th>longitude</th>\n",
       "      <th>elevation_(m)</th>\n",
       "      <th>timezone</th>\n",
       "    </tr>\n",
       "  </thead>\n",
       "  <tbody>\n",
       "    <tr>\n",
       "      <th>0</th>\n",
       "      <td>2015-08-25 14:10:00</td>\n",
       "      <td>97.93</td>\n",
       "      <td>1.19</td>\n",
       "      <td>308.0</td>\n",
       "      <td>0.70</td>\n",
       "      <td>29.0</td>\n",
       "      <td>55.0</td>\n",
       "      <td>2.3</td>\n",
       "      <td>0.8</td>\n",
       "      <td>TA00009</td>\n",
       "      <td>Adehyeman SHS Amasu</td>\n",
       "      <td>GH</td>\n",
       "      <td>2</td>\n",
       "      <td>7.224886</td>\n",
       "      <td>-2.782252</td>\n",
       "      <td>319</td>\n",
       "      <td>Africa/Accra</td>\n",
       "    </tr>\n",
       "    <tr>\n",
       "      <th>1</th>\n",
       "      <td>2015-08-25 14:15:00</td>\n",
       "      <td>97.91</td>\n",
       "      <td>0.00</td>\n",
       "      <td>540.0</td>\n",
       "      <td>0.70</td>\n",
       "      <td>29.0</td>\n",
       "      <td>74.0</td>\n",
       "      <td>1.1</td>\n",
       "      <td>0.7</td>\n",
       "      <td>TA00009</td>\n",
       "      <td>Adehyeman SHS Amasu</td>\n",
       "      <td>GH</td>\n",
       "      <td>2</td>\n",
       "      <td>7.224886</td>\n",
       "      <td>-2.782252</td>\n",
       "      <td>319</td>\n",
       "      <td>Africa/Accra</td>\n",
       "    </tr>\n",
       "    <tr>\n",
       "      <th>2</th>\n",
       "      <td>2015-08-25 14:20:00</td>\n",
       "      <td>97.91</td>\n",
       "      <td>0.02</td>\n",
       "      <td>286.0</td>\n",
       "      <td>0.70</td>\n",
       "      <td>29.0</td>\n",
       "      <td>75.0</td>\n",
       "      <td>3.1</td>\n",
       "      <td>1.0</td>\n",
       "      <td>TA00009</td>\n",
       "      <td>Adehyeman SHS Amasu</td>\n",
       "      <td>GH</td>\n",
       "      <td>2</td>\n",
       "      <td>7.224886</td>\n",
       "      <td>-2.782252</td>\n",
       "      <td>319</td>\n",
       "      <td>Africa/Accra</td>\n",
       "    </tr>\n",
       "    <tr>\n",
       "      <th>3</th>\n",
       "      <td>2015-08-25 14:25:00</td>\n",
       "      <td>97.91</td>\n",
       "      <td>0.00</td>\n",
       "      <td>304.0</td>\n",
       "      <td>0.71</td>\n",
       "      <td>28.4</td>\n",
       "      <td>168.0</td>\n",
       "      <td>2.3</td>\n",
       "      <td>1.4</td>\n",
       "      <td>TA00009</td>\n",
       "      <td>Adehyeman SHS Amasu</td>\n",
       "      <td>GH</td>\n",
       "      <td>2</td>\n",
       "      <td>7.224886</td>\n",
       "      <td>-2.782252</td>\n",
       "      <td>319</td>\n",
       "      <td>Africa/Accra</td>\n",
       "    </tr>\n",
       "    <tr>\n",
       "      <th>4</th>\n",
       "      <td>2015-08-25 14:30:00</td>\n",
       "      <td>97.90</td>\n",
       "      <td>0.00</td>\n",
       "      <td>260.0</td>\n",
       "      <td>0.73</td>\n",
       "      <td>27.9</td>\n",
       "      <td>172.0</td>\n",
       "      <td>2.0</td>\n",
       "      <td>1.5</td>\n",
       "      <td>TA00009</td>\n",
       "      <td>Adehyeman SHS Amasu</td>\n",
       "      <td>GH</td>\n",
       "      <td>2</td>\n",
       "      <td>7.224886</td>\n",
       "      <td>-2.782252</td>\n",
       "      <td>319</td>\n",
       "      <td>Africa/Accra</td>\n",
       "    </tr>\n",
       "  </tbody>\n",
       "</table>\n",
       "</div>"
      ],
      "text/plain": [
       "       timestamp_(UTC)  atmospheric_pressure_(kPa)  precipitation_(mm)  \\\n",
       "0  2015-08-25 14:10:00                       97.93                1.19   \n",
       "1  2015-08-25 14:15:00                       97.91                0.00   \n",
       "2  2015-08-25 14:20:00                       97.91                0.02   \n",
       "3  2015-08-25 14:25:00                       97.91                0.00   \n",
       "4  2015-08-25 14:30:00                       97.90                0.00   \n",
       "\n",
       "   radiation_(W/m2)  relative_humidity_(-)  temperature_(degrees_Celsius)  \\\n",
       "0             308.0                   0.70                           29.0   \n",
       "1             540.0                   0.70                           29.0   \n",
       "2             286.0                   0.70                           29.0   \n",
       "3             304.0                   0.71                           28.4   \n",
       "4             260.0                   0.73                           27.9   \n",
       "\n",
       "   wind_direction_(degrees)  wind_gusts_(m/s)  wind_speed_(m/s) station_code  \\\n",
       "0                      55.0               2.3               0.8      TA00009   \n",
       "1                      74.0               1.1               0.7      TA00009   \n",
       "2                      75.0               3.1               1.0      TA00009   \n",
       "3                     168.0               2.3               1.4      TA00009   \n",
       "4                     172.0               2.0               1.5      TA00009   \n",
       "\n",
       "                  name country  installation_height_(m)  latitude  longitude  \\\n",
       "0  Adehyeman SHS Amasu      GH                        2  7.224886  -2.782252   \n",
       "1  Adehyeman SHS Amasu      GH                        2  7.224886  -2.782252   \n",
       "2  Adehyeman SHS Amasu      GH                        2  7.224886  -2.782252   \n",
       "3  Adehyeman SHS Amasu      GH                        2  7.224886  -2.782252   \n",
       "4  Adehyeman SHS Amasu      GH                        2  7.224886  -2.782252   \n",
       "\n",
       "   elevation_(m)      timezone  \n",
       "0            319  Africa/Accra  \n",
       "1            319  Africa/Accra  \n",
       "2            319  Africa/Accra  \n",
       "3            319  Africa/Accra  \n",
       "4            319  Africa/Accra  "
      ]
     },
     "execution_count": 4,
     "metadata": {},
     "output_type": "execute_result"
    }
   ],
   "source": [
    "weather_df.head()"
   ]
  },
  {
   "cell_type": "code",
   "execution_count": 5,
   "id": "simple-incidence",
   "metadata": {},
   "outputs": [
    {
     "data": {
      "text/plain": [
       "(1285186, 17)"
      ]
     },
     "execution_count": 5,
     "metadata": {},
     "output_type": "execute_result"
    }
   ],
   "source": [
    "weather_df.shape"
   ]
  },
  {
   "cell_type": "code",
   "execution_count": 6,
   "id": "forty-employment",
   "metadata": {},
   "outputs": [],
   "source": [
    "weather_df.drop(['country', 'timezone'], axis=1, inplace=True)"
   ]
  },
  {
   "cell_type": "code",
   "execution_count": 7,
   "id": "portuguese-citation",
   "metadata": {},
   "outputs": [],
   "source": [
    "weather_df.to_csv('data/clean/weather.csv', index=False)"
   ]
  },
  {
   "cell_type": "code",
   "execution_count": null,
   "id": "cultural-district",
   "metadata": {},
   "outputs": [],
   "source": []
  }
 ],
 "metadata": {
  "kernelspec": {
   "display_name": "Python 3",
   "language": "python",
   "name": "python3"
  },
  "language_info": {
   "codemirror_mode": {
    "name": "ipython",
    "version": 3
   },
   "file_extension": ".py",
   "mimetype": "text/x-python",
   "name": "python",
   "nbconvert_exporter": "python",
   "pygments_lexer": "ipython3",
   "version": "3.9.1"
  }
 },
 "nbformat": 4,
 "nbformat_minor": 5
}
